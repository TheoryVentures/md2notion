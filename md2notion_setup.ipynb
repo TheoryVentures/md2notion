{
  "nbformat": 4,
  "nbformat_minor": 5,
  "metadata": {
    "noteable-chatgpt": {
      "create_notebook": {
        "openai_conversation_id": "e48e1461-6c48-5a7a-8607-0332164246a8",
        "openai_ephemeral_user_id": "6af278e8-4f4d-515d-965e-f2cb3efee116",
        "openai_subdivision1_iso_code": "FI-18"
      }
    },
    "kernel_info": {
      "name": "python3"
    },
    "noteable": {
      "last_transaction_id": "0bb5c57f-6e42-4e1c-b417-d06da3d3980b"
    },
    "kernelspec": {
      "display_name": "Python 3.9",
      "language": "python",
      "name": "python3"
    },
    "selected_hardware_size": "small"
  },
  "cells": [
    {
      "id": "aab44505-e659-4c11-91dd-3f20f7aab9bc",
      "cell_type": "code",
      "metadata": {
        "jupyter": {
          "outputs_hidden": false,
          "source_hidden": false
        },
        "noteable": {
          "cell_type": "code"
        }
      },
      "execution_count": null,
      "source": "",
      "outputs": []
    },
    {
      "id": "1bf38e7e-dd5e-4d71-8e89-9a8727fe6219",
      "cell_type": "code",
      "metadata": {
        "noteable": {
          "cell_type": "code",
          "output_collection_id": "dd271aa1-a059-41f6-886c-b78b2ea1ec5a"
        },
        "ExecuteTime": null
      },
      "execution_count": null,
      "source": "!pip install notion-client mistune html2text",
      "outputs": []
    }
  ]
}