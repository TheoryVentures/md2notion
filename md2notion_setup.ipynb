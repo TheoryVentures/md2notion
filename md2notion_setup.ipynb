{
  "nbformat": 4,
  "nbformat_minor": 5,
  "metadata": {
    "noteable-chatgpt": {
      "create_notebook": {
        "openai_conversation_id": "e48e1461-6c48-5a7a-8607-0332164246a8",
        "openai_ephemeral_user_id": "6af278e8-4f4d-515d-965e-f2cb3efee116",
        "openai_subdivision1_iso_code": "FI-18"
      }
    },
    "kernel_info": {
      "name": "python3"
    },
    "noteable": {
      "last_transaction_id": "2ec6b7bb-eb3b-4f23-bee5-01b8697a8b80"
    },
    "kernelspec": {
      "display_name": "Python 3.9",
      "language": "python",
      "name": "python3"
    },
    "selected_hardware_size": "small"
  },
  "cells": [
    {
      "id": "aab44505-e659-4c11-91dd-3f20f7aab9bc",
      "cell_type": "code",
      "metadata": {
        "jupyter": {
          "outputs_hidden": false,
          "source_hidden": false
        },
        "noteable": {
          "cell_type": "code"
        }
      },
      "execution_count": null,
      "source": "",
      "outputs": []
    },
    {
      "id": "1bf38e7e-dd5e-4d71-8e89-9a8727fe6219",
      "cell_type": "code",
      "metadata": {
        "noteable": {
          "cell_type": "code",
          "output_collection_id": "dd271aa1-a059-41f6-886c-b78b2ea1ec5a"
        },
        "ExecuteTime": {
          "end_time": "2023-08-22T12:18:26.701754+00:00",
          "start_time": "2023-08-22T12:18:21.537196+00:00"
        }
      },
      "execution_count": null,
      "source": "!pip install notion-client mistune html2text",
      "outputs": []
    },
    {
      "id": "d8399d2d-a52e-4b2b-938e-38a980c4b114",
      "cell_type": "code",
      "metadata": {
        "noteable": {
          "cell_type": "code",
          "output_collection_id": "0ac22e73-d0f1-44f1-825f-9cce3abd7aa9"
        },
        "ExecuteTime": {
          "end_time": "2023-08-22T12:20:04.404081+00:00",
          "start_time": "2023-08-22T12:20:04.246071+00:00"
        }
      },
      "execution_count": null,
      "source": "setup_code = \"\"\"\nfrom setuptools import setup, find_packages\nsetup(\n    name='md2notion',\n    version='0.1.0',\n    packages=find_packages(),\n    install_requires=[\n        'notion-client',\n        'mistune',\n        'html2text'\n    ],\n    author='Your Name',\n    description='A package to convert Markdown to Notion',\n    long_description=open('README.md').read(),\n    long_description_content_type='text/markdown',\n)\n\"\"\"\nwith open('setup.py', 'w') as file:\n    file.write(setup_code)",
      "outputs": []
    },
    {
      "id": "4651e8fb-f2fd-4e88-8e73-88872bd2f629",
      "cell_type": "code",
      "metadata": {
        "noteable": {
          "cell_type": "code",
          "output_collection_id": "d3d587b1-9016-4b4f-88d8-3b19937e6276"
        },
        "ExecuteTime": {
          "end_time": "2023-08-22T12:22:02.113240+00:00",
          "start_time": "2023-08-22T12:22:01.956137+00:00"
        }
      },
      "execution_count": null,
      "source": "core_code = \"\"\"\nimport os, re, glob, base64, json\nimport mistune, html2text\nfrom notion_client import Client\nfrom os import environ\n\"\"\"\nwith open('core.py', 'w') as file:\n    file.write(core_code)",
      "outputs": []
    },
    {
      "id": "5d5af3e6-22ee-469b-8b4c-627b02b3a3b6",
      "cell_type": "code",
      "metadata": {
        "noteable": {
          "cell_type": "code",
          "output_collection_id": "21d5cd16-ce3a-4c7d-9404-df01e5863ade"
        },
        "ExecuteTime": {
          "end_time": "2023-08-22T12:22:26.122781+00:00",
          "start_time": "2023-08-22T12:22:25.966645+00:00"
        }
      },
      "execution_count": null,
      "source": "with open('__init__.py', 'w') as file:\n    pass",
      "outputs": []
    },
    {
      "id": "8ab082d7-2c83-4c77-bb16-64d18d5142a6",
      "cell_type": "code",
      "metadata": {
        "noteable": {
          "cell_type": "code",
          "output_collection_id": "d73fcbd6-9db2-4896-b46c-eecc99856a8e"
        },
        "ExecuteTime": {
          "end_time": "2023-08-22T12:23:28.624599+00:00",
          "start_time": "2023-08-22T12:23:28.468123+00:00"
        }
      },
      "execution_count": null,
      "source": "manifest_content = \"\"\"\ninclude LICENSE\ninclude README.md\n\"\"\"\nwith open('MANIFEST.in', 'w') as file:\n    file.write(manifest_content)",
      "outputs": []
    },
    {
      "id": "5d245a57-8e7a-4c89-9953-f95c859f9efb",
      "cell_type": "code",
      "metadata": {
        "noteable": {
          "cell_type": "code",
          "output_collection_id": "13414f05-a4a2-4f97-acd1-ee15d8a650c7"
        },
        "ExecuteTime": {
          "end_time": "2023-08-22T12:35:52.986232+00:00",
          "start_time": "2023-08-22T12:35:52.826193+00:00"
        }
      },
      "execution_count": null,
      "source": "readme_content = \"\"\"\n# md2notion\n\nA Python package to convert Markdown text into Notion pages. This module provides functionality to create Notion pages from Markdown text, parse Markdown into Notion blocks, and process inline formatting.\n\n## Installation\n\nYou can install the package using pip:\n\n```bash\npip install md2notion\n```\n\n## Usage\n\nHere's a basic example of how to use the `create_notion_page_from_md` function:\n\n```python\nfrom md2notion.core import create_notion_page_from_md\nmarkdown_text = '# My Page\\nThis is a Notion page created from Markdown.'\ntitle = 'My Notion Page'\nparent_page_id = 'YOUR_PARENT_PAGE_ID'\nnotion_page_url = create_notion_page_from_md(markdown_text, title, parent_page_id)\n```\n\n## Dependencies\n\n- notion-client\n- mistune\n- html2text\n\n## Environment Variables\n\nYou must set the `NOTION_SECRET` environment variable with your Notion API token.\n\n## Notes\n\nThis package is designed to work with the Notion API and requires proper authentication. Make sure to follow Notion's API documentation to set up your integration.\n\n## License\n\nThis project is licensed under the MIT License. See the LICENSE file for details.\n\"\"\"\nwith open('README.md', 'w') as file:\n    file.write(readme_content)",
      "outputs": []
    },
    {
      "id": "520cbbe5-938a-4e10-880d-a429f1b3fc93",
      "cell_type": "code",
      "metadata": {
        "noteable": {
          "cell_type": "code",
          "output_collection_id": "2286037e-d7f7-4aee-8c38-6734251fb524"
        },
        "ExecuteTime": {
          "end_time": "2023-08-22T12:40:36.162110+00:00",
          "start_time": "2023-08-22T12:40:35.566960+00:00"
        }
      },
      "execution_count": null,
      "source": "import shutil\n\n# Create a package directory\npackage_dir = 'md2notion'\nos.makedirs(package_dir, exist_ok=True)\n\n# Move core.py into the package directory\nshutil.move('core.py', os.path.join(package_dir, 'core.py'))\n\n# Update __init__.py with the alias\ninit_content = 'from .core import create_notion_page_from_md as md2notion\\n'\nwith open(os.path.join(package_dir, '__init__.py'), 'w') as file:\n    file.write(init_content)",
      "outputs": []
    },
    {
      "id": "1d512d0c-0a91-40ad-a4ce-a2b912e10e82",
      "cell_type": "code",
      "metadata": {
        "noteable": {
          "cell_type": "code",
          "output_collection_id": "1f17921d-8c5b-4826-a5bc-ed7b5ef00b0b"
        },
        "ExecuteTime": {
          "end_time": "2023-08-22T12:41:06.464240+00:00",
          "start_time": "2023-08-22T12:41:06.305314+00:00"
        }
      },
      "execution_count": null,
      "source": "import os\nimport shutil\n\n# Create a package directory\npackage_dir = 'md2notion'\nos.makedirs(package_dir, exist_ok=True)\n\n# Move core.py into the package directory\nshutil.move('core.py', os.path.join(package_dir, 'core.py'))\n\n# Update __init__.py with the alias\ninit_content = 'from .core import create_notion_page_from_md as md2notion\\n'\nwith open(os.path.join(package_dir, '__init__.py'), 'w') as file:\n    file.write(init_content)",
      "outputs": []
    },
    {
      "id": "fc0ecf77-e4ea-4194-8a29-2c0f8c95ca94",
      "cell_type": "code",
      "metadata": {
        "noteable": {
          "cell_type": "code",
          "output_collection_id": "a4354e5b-14e1-454d-848c-44a25d002bf3"
        },
        "ExecuteTime": {
          "end_time": "2023-08-22T14:29:10.122662+00:00",
          "start_time": "2023-08-22T14:29:09.523509+00:00"
        }
      },
      "execution_count": null,
      "source": "# Creating a 'tests' directory\ntests_dir = 'tests'\nos.makedirs(tests_dir, exist_ok=True)\n\n# Writing the test code to a file in the 'tests' directory\ntest_code = \"\"\"\nimport unittest\nfrom md2notionpage import md2notionpage\n\nclass TestMd2NotionPage(unittest.TestCase):\n\n    def test_create_notion_page_from_md(self):\n        # Test parameters (replace these with actual values)\n        markdown_text = \\\"# Test Page\\\\nThis is a test page created from Markdown.\\\"\n        title = \\\"Test Notion Page\\\"\n        parent_page_id = \\\"YOUR_PARENT_PAGE_ID\\\" # Replace with actual parent_page_id\n\n        # Call the md2notionpage function\n        notion_page_url = md2notionpage(markdown_text, title, parent_page_id)\n\n        # Check that the returned URL is valid (this depends on how the function is implemented)\n        self.assertIsNotNone(notion_page_url)\n        self.assertTrue(notion_page_url.startswith('https://www.notion.so/'))\n\nif __name__ == '__main__':\n    unittest.main()\n\"\"\"\n\n# Writing the test code to a file in the 'tests' directory\nwith open(os.path.join(tests_dir, 'test_md2notionpage.py'), 'w') as file:\n    file.write(test_code)",
      "outputs": []
    },
    {
      "id": "a0639120-f228-4bc8-aeb5-ecaac0f25ec5",
      "cell_type": "code",
      "metadata": {
        "noteable": {
          "cell_type": "code",
          "output_collection_id": "ed9d3ac8-2c30-44a9-a8b2-d1c1ba94094c"
        },
        "ExecuteTime": {
          "end_time": "2023-08-22T14:39:18.741991+00:00",
          "start_time": "2023-08-22T14:39:18.559258+00:00"
        }
      },
      "execution_count": null,
      "source": "# Creating a 'tests' directory if not exists\ntests_dir = 'tests'\nos.makedirs(tests_dir, exist_ok=True)\n\n# Writing the test code to a file in the 'tests' directory\ntest_code = \"\"\"\nimport unittest\nfrom md2notionpage import md2notionpage\nimport os\n\nclass TestMd2NotionPage(unittest.TestCase):\n\n    @classmethod\n    def setUpClass(cls):\n        os.environ['NOTION_SECRET'] = 'your-secret-token'\n\n    def test_create_notion_page_from_md(self):\n        markdown_text = \\\"# Otsikko 1\\\\n## Alaotsikko 1.1\\\\n### Alaotsikko 1.1.1\\\\nTämä on tavallinen kappale, joka sisältää **lihavoitua** ja *kursivoitua* tekstiä.\\\\n- Luettelomerkit\\\\n  - Alaluettelo\\\\n- Toinen kohta\\\\n1. Numeroitu luettelo\\\\n   1. Alaluettelo\\\\n2. Toinen kohta\\\\n[Linkki](https://www.example.com)\\\\nTässä on koodiesimerkki:\\\\n    def hello_world():\\\\n        print(\\\"Hello, world!\\\")\\\\n> Lainaus\\\\nTaulukko:\\\\n| Sarake 1 | Sarake 2 | Sarake 3 |\\\\n|----------|----------|----------|\\\\n| Sisältö  | Sisältö  | Sisältö  |\\\\n---\\\\nVaakaviiva\\\\n![Kuvateksti](https://www.example.com/image.jpg)\\\\nTämä on monipuolinen esimerkki, joka sisältää useimmat yleiset Markdown-elementit.\\\"\n        title = \\\"Test Notion Page\\\"\n        parent_page_id = \\\"YOUR_PARENT_PAGE_ID\\\" # Replace with actual parent_page_id\n\n        # Call the md2notionpage function\n        notion_page_url = md2notionpage(markdown_text, title, parent_page_id)\n\n        # Check that the returned URL is valid (this depends on how the function is implemented)\n        self.assertIsNotNone(notion_page_url)\n        self.assertTrue(notion_page_url.startswith('https://www.notion.so/'))\n\nif __name__ == '__main__':\n    unittest.main()\n\"\"\"\n\n# Writing the test code to a file in the 'tests' directory\nwith open(os.path.join(tests_dir, 'test_md2notionpage.py'), 'w') as file:\n    file.write(test_code)",
      "outputs": []
    },
    {
      "id": "c8cc1237-17d9-467a-9aad-9b71301ea1b5",
      "cell_type": "code",
      "metadata": {
        "noteable": {
          "cell_type": "code",
          "output_collection_id": "d42d09a6-af5d-4e5f-b490-db314fd76e61"
        },
        "ExecuteTime": {
          "end_time": "2023-08-22T14:41:12.503889+00:00",
          "start_time": "2023-08-22T14:41:12.345488+00:00"
        }
      },
      "execution_count": null,
      "source": "import os\n\n# Creating a 'tests' directory if not exists\ntests_dir = 'tests'\nos.makedirs(tests_dir, exist_ok=True)\n\n# Writing the test code to a file in the 'tests' directory\ntest_code = \"\"\"\nimport unittest\nfrom md2notionpage import md2notionpage\nimport os\n\nclass TestMd2NotionPage(unittest.TestCase):\n\n    @classmethod\n    def setUpClass(cls):\n        os.environ['NOTION_SECRET'] = 'your-secret-token'\n\n    def test_create_notion_page_from_md(self):\n        markdown_text = \\\"# Otsikko 1\\\\n## Alaotsikko 1.1\\\\n### Alaotsikko 1.1.1\\\\nTämä on tavallinen kappale, joka sisältää **lihavoitua** ja *kursivoitua* tekstiä.\\\\n- Luettelomerkit\\\\n  - Alaluettelo\\\\n- Toinen kohta\\\\n1. Numeroitu luettelo\\\\n   1. Alaluettelo\\\\n2. Toinen kohta\\\\n[Linkki](https://www.example.com)\\\\nTässä on koodiesimerkki:\\\\n    def hello_world():\\\\n        print(\\\"Hello, world!\\\")\\\\n> Lainaus\\\\nTaulukko:\\\\n| Sarake 1 | Sarake 2 | Sarake 3 |\\\\n|----------|----------|----------|\\\\n| Sisältö  | Sisältö  | Sisältö  |\\\\n---\\\\nVaakaviiva\\\\n![Kuvateksti](https://www.example.com/image.jpg)\\\\nTämä on monipuolinen esimerkki, joka sisältää useimmat yleiset Markdown-elementit.\\\"\n        title = \\\"Test Notion Page\\\"\n        parent_page_id = \\\"YOUR_PARENT_PAGE_ID\\\" # Replace with actual parent_page_id\n\n        # Call the md2notionpage function\n        notion_page_url = md2notionpage(markdown_text, title, parent_page_id)\n\n        # Check that the returned URL is valid (this depends on how the function is implemented)\n        self.assertIsNotNone(notion_page_url)\n        self.assertTrue(notion_page_url.startswith('https://www.notion.so/'))\n\nif __name__ == '__main__':\n    unittest.main()\n\"\"\"\n\n# Writing the test code to a file in the 'tests' directory\nwith open(os.path.join(tests_dir, 'test_md2notionpage.py'), 'w') as file:\n    file.write(test_code)",
      "outputs": []
    },
    {
      "id": "e8635d59-c249-4cdf-8eee-37935f660596",
      "cell_type": "code",
      "metadata": {
        "noteable": {
          "cell_type": "code",
          "output_collection_id": "0a16594d-5790-4c0c-9c1e-e31d03a0cd93"
        },
        "ExecuteTime": {
          "end_time": "2023-08-22T14:51:37.165205+00:00",
          "start_time": "2023-08-22T14:51:37.007711+00:00"
        }
      },
      "execution_count": null,
      "source": "# Writing the CLI application code to a file named 'cli.py'\ncli_code = \"\"\"\nimport argparse\nfrom md2notionpage import md2notionpage\n\ndef main():\n    parser = argparse.ArgumentParser(description='Convert a Markdown file to a Notion page.')\n    parser.add_argument('markdown_file', type=str, help='Path to the Markdown file to convert.')\n    parser.add_argument('parent_page_id', type=str, help='ID of the parent Notion page.')\n    parser.add_argument('--title', type=str, default='', help='Title for the Notion page (optional).')\n    parser.add_argument('--cover_url', type=str, default='', help='Cover URL for the Notion page (optional).')\n    args = parser.parse_args()\n\n    # Read the Markdown content from the file\n    with open(args.markdown_file, 'r') as file:\n        markdown_content = file.read()\n\n    # Create the Notion page\n    notion_page_url = md2notionpage(markdown_content, args.title, args.parent_page_id, args.cover_url)\n    print(f'Notion page created: {notion_page_url}')\n\nif __name__ == '__main__':\n    main()\n\"\"\"\n\n# Writing the CLI code to a file named 'cli.py'\nwith open('cli.py', 'w') as file:\n    file.write(cli_code)",
      "outputs": []
    },
    {
      "id": "3e0ae028-b192-46aa-b0dd-3c77f4a9fa83",
      "cell_type": "code",
      "metadata": {
        "noteable": {
          "cell_type": "code",
          "output_collection_id": "c4f9afb3-404f-4bf3-9b5d-f10e58f17ef6"
        },
        "ExecuteTime": {
          "end_time": "2023-08-22T14:55:41.555717+00:00",
          "start_time": "2023-08-22T14:55:41.397588+00:00"
        }
      },
      "execution_count": null,
      "source": "# Creating an example Markdown file named 'example.md'\nexample_md_content = \"\"\"\n# Otsikko 1\n## Alaotsikko 1.1\n### Alaotsikko 1.1.1\nTämä on tavallinen kappale, joka sisältää **lihavoitua** ja *kursivoitua* tekstiä.\n- Luettelomerkit\n  - Alaluettelo\n- Toinen kohta\n1. Numeroitu luettelo\n   1. Alaluettelo\n2. Toinen kohta\n[Linkki](https://www.example.com)\nTässä on koodiesimerkki:\n    def hello_world():\n        print(\"Hello, world!\")\n> Lainaus\nTaulukko:\n| Sarake 1 | Sarake 2 | Sarake 3 |\n|----------|----------|----------|\n| Sisältö  | Sisältö  | Sisältö  |\n---\nVaakaviiva\n![Kuvateksti](https://www.example.com/image.jpg)\nTämä on monipuolinen esimerkki, joka sisältää useimmat yleiset Markdown-elementit.\n\"\"\"\n\n# Writing the example Markdown content to a file named 'example.md'\nwith open('example.md', 'w') as file:\n    file.write(example_md_content)",
      "outputs": []
    },
    {
      "id": "462ac134-2186-4712-9afb-a64542e948e3",
      "cell_type": "code",
      "metadata": {
        "noteable": {
          "cell_type": "code",
          "output_collection_id": "89cf749b-66d1-4062-9f99-5ef66edc18f1"
        },
        "ExecuteTime": {
          "end_time": "2023-08-22T17:16:37.879343+00:00",
          "start_time": "2023-08-22T17:16:37.720893+00:00"
        }
      },
      "execution_count": null,
      "source": "# Updating the CLI application code to take title from file base name if not given and to catch errors\ncli_code_updated = \"\"\"\nimport argparse\nimport os\nfrom md2notionpage import md2notionpage\n\ndef main():\n    parser = argparse.ArgumentParser(description='Convert a Markdown file to a Notion page.')\n    parser.add_argument('markdown_file', type=str, help='Path to the Markdown file to convert.')\n    parser.add_argument('parent_page_id', type=str, help='ID of the parent Notion page.')\n    parser.add_argument('--title', type=str, help='Title for the Notion page (optional).')\n    parser.add_argument('--cover_url', type=str, default='', help='Cover URL for the Notion page (optional).')\n    args = parser.parse_args()\n\n    # If title is not given, take it from the file base name\n    title = args.title if args.title else os.path.splitext(os.path.basename(args.markdown_file))[0]\n\n    try:\n        # Read the Markdown content from the file\n        with open(args.markdown_file, 'r') as file:\n            markdown_content = file.read()\n\n        # Create the Notion page\n        notion_page_url = md2notionpage(markdown_content, title, args.parent_page_id, args.cover_url)\n        print(f'Notion page created: {notion_page_url}')\n    except Exception as e:\n        print(f'An error occurred: {str(e)}')\n\nif __name__ == '__main__':\n    main()\n\"\"\"\n\n# Writing the updated CLI code to the 'cli.py' file\nwith open('cli.py', 'w') as file:\n    file.write(cli_code_updated)",
      "outputs": []
    }
  ]
}