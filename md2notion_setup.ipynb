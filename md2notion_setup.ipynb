{
  "nbformat": 4,
  "nbformat_minor": 5,
  "metadata": {
    "noteable-chatgpt": {
      "create_notebook": {
        "openai_conversation_id": "e48e1461-6c48-5a7a-8607-0332164246a8",
        "openai_ephemeral_user_id": "6af278e8-4f4d-515d-965e-f2cb3efee116",
        "openai_subdivision1_iso_code": "FI-18"
      }
    },
    "kernel_info": {
      "name": "python3"
    },
    "noteable": {
      "last_transaction_id": "6048f050-85d0-4f18-8d3c-4cc27aac7152"
    },
    "kernelspec": {
      "display_name": "Python 3.9",
      "language": "python",
      "name": "python3"
    },
    "selected_hardware_size": "small"
  },
  "cells": [
    {
      "id": "aab44505-e659-4c11-91dd-3f20f7aab9bc",
      "cell_type": "code",
      "metadata": {
        "jupyter": {
          "outputs_hidden": false,
          "source_hidden": false
        },
        "noteable": {
          "cell_type": "code"
        }
      },
      "execution_count": null,
      "source": "",
      "outputs": []
    },
    {
      "id": "1bf38e7e-dd5e-4d71-8e89-9a8727fe6219",
      "cell_type": "code",
      "metadata": {
        "noteable": {
          "cell_type": "code",
          "output_collection_id": "dd271aa1-a059-41f6-886c-b78b2ea1ec5a"
        },
        "ExecuteTime": {
          "end_time": "2023-08-22T12:18:26.701754+00:00",
          "start_time": "2023-08-22T12:18:21.537196+00:00"
        }
      },
      "execution_count": null,
      "source": "!pip install notion-client mistune html2text",
      "outputs": []
    },
    {
      "id": "d8399d2d-a52e-4b2b-938e-38a980c4b114",
      "cell_type": "code",
      "metadata": {
        "noteable": {
          "cell_type": "code",
          "output_collection_id": "0ac22e73-d0f1-44f1-825f-9cce3abd7aa9"
        },
        "ExecuteTime": {
          "end_time": "2023-08-22T12:20:04.404081+00:00",
          "start_time": "2023-08-22T12:20:04.246071+00:00"
        }
      },
      "execution_count": null,
      "source": "setup_code = \"\"\"\nfrom setuptools import setup, find_packages\nsetup(\n    name='md2notion',\n    version='0.1.0',\n    packages=find_packages(),\n    install_requires=[\n        'notion-client',\n        'mistune',\n        'html2text'\n    ],\n    author='Your Name',\n    description='A package to convert Markdown to Notion',\n    long_description=open('README.md').read(),\n    long_description_content_type='text/markdown',\n)\n\"\"\"\nwith open('setup.py', 'w') as file:\n    file.write(setup_code)",
      "outputs": []
    },
    {
      "id": "4651e8fb-f2fd-4e88-8e73-88872bd2f629",
      "cell_type": "code",
      "metadata": {
        "noteable": {
          "cell_type": "code",
          "output_collection_id": "d3d587b1-9016-4b4f-88d8-3b19937e6276"
        },
        "ExecuteTime": {
          "end_time": "2023-08-22T12:22:02.113240+00:00",
          "start_time": "2023-08-22T12:22:01.956137+00:00"
        }
      },
      "execution_count": null,
      "source": "core_code = \"\"\"\nimport os, re, glob, base64, json\nimport mistune, html2text\nfrom notion_client import Client\nfrom os import environ\n\"\"\"\nwith open('core.py', 'w') as file:\n    file.write(core_code)",
      "outputs": []
    },
    {
      "id": "5d5af3e6-22ee-469b-8b4c-627b02b3a3b6",
      "cell_type": "code",
      "metadata": {
        "noteable": {
          "cell_type": "code",
          "output_collection_id": "21d5cd16-ce3a-4c7d-9404-df01e5863ade"
        },
        "ExecuteTime": {
          "end_time": "2023-08-22T12:22:26.122781+00:00",
          "start_time": "2023-08-22T12:22:25.966645+00:00"
        }
      },
      "execution_count": null,
      "source": "with open('__init__.py', 'w') as file:\n    pass",
      "outputs": []
    },
    {
      "id": "8ab082d7-2c83-4c77-bb16-64d18d5142a6",
      "cell_type": "code",
      "metadata": {
        "noteable": {
          "cell_type": "code",
          "output_collection_id": "d73fcbd6-9db2-4896-b46c-eecc99856a8e"
        },
        "ExecuteTime": {
          "end_time": "2023-08-22T12:23:28.624599+00:00",
          "start_time": "2023-08-22T12:23:28.468123+00:00"
        }
      },
      "execution_count": null,
      "source": "manifest_content = \"\"\"\ninclude LICENSE\ninclude README.md\n\"\"\"\nwith open('MANIFEST.in', 'w') as file:\n    file.write(manifest_content)",
      "outputs": []
    }
  ]
}